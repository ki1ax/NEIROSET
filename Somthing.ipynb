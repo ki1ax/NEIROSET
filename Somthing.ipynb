{
 "cells": [
  {
   "cell_type": "code",
   "execution_count": 1,
   "id": "123c222c",
   "metadata": {},
   "outputs": [
    {
     "name": "stdout",
     "output_type": "stream",
     "text": [
      "Requirement already satisfied: deeppavlov in d:\\progs\\anaconda3\\lib\\site-packages (1.0.0)\n",
      "Requirement already satisfied: fastapi<0.78.0,>=0.47.0 in d:\\progs\\anaconda3\\lib\\site-packages (from deeppavlov) (0.77.1)\n",
      "Requirement already satisfied: pandas<1.5.0,>=1.0.0 in d:\\progs\\anaconda3\\lib\\site-packages (from deeppavlov) (1.4.4)\n",
      "Requirement already satisfied: pydantic in d:\\progs\\anaconda3\\lib\\site-packages (from deeppavlov) (1.10.2)\n",
      "Requirement already satisfied: pybind11==2.2.4 in d:\\progs\\anaconda3\\lib\\site-packages (from deeppavlov) (2.2.4)\n",
      "Requirement already satisfied: scikit-learn<1.1.0,>=0.24 in d:\\progs\\anaconda3\\lib\\site-packages (from deeppavlov) (1.0.2)\n",
      "Requirement already satisfied: numpy in d:\\progs\\anaconda3\\lib\\site-packages (from deeppavlov) (1.21.5)\n",
      "Requirement already satisfied: scipy<1.9.0 in d:\\progs\\anaconda3\\lib\\site-packages (from deeppavlov) (1.8.1)\n",
      "Requirement already satisfied: tqdm<4.65.0,>=4.42.0 in d:\\progs\\anaconda3\\lib\\site-packages (from deeppavlov) (4.64.1)\n",
      "Requirement already satisfied: aio-pika<6.9.0,>=3.2.2 in d:\\progs\\anaconda3\\lib\\site-packages (from deeppavlov) (6.8.2)\n",
      "Requirement already satisfied: pymorphy2==0.9.1 in d:\\progs\\anaconda3\\lib\\site-packages (from deeppavlov) (0.9.1)\n",
      "Requirement already satisfied: uvicorn<0.19.0,>=0.13.0 in d:\\progs\\anaconda3\\lib\\site-packages (from deeppavlov) (0.18.3)\n",
      "Requirement already satisfied: filelock<3.8.0,>=3.0.0 in d:\\progs\\anaconda3\\lib\\site-packages (from deeppavlov) (3.6.0)\n",
      "Requirement already satisfied: overrides==4.1.2 in d:\\progs\\anaconda3\\lib\\site-packages (from deeppavlov) (4.1.2)\n",
      "Requirement already satisfied: nltk<3.8.0,>=3.2.5 in d:\\progs\\anaconda3\\lib\\site-packages (from deeppavlov) (3.7)\n",
      "Requirement already satisfied: prometheus-client<0.15.0,>=0.13.0 in d:\\progs\\anaconda3\\lib\\site-packages (from deeppavlov) (0.14.1)\n",
      "Requirement already satisfied: requests<3.0.0,>=2.19.0 in d:\\progs\\anaconda3\\lib\\site-packages (from deeppavlov) (2.28.1)\n",
      "Requirement already satisfied: typing-utils>=0.0.3 in d:\\progs\\anaconda3\\lib\\site-packages (from overrides==4.1.2->deeppavlov) (0.1.0)\n",
      "Requirement already satisfied: pymorphy2-dicts-ru<3.0,>=2.4 in d:\\progs\\anaconda3\\lib\\site-packages (from pymorphy2==0.9.1->deeppavlov) (2.4.417127.4579844)\n",
      "Requirement already satisfied: docopt>=0.6 in d:\\progs\\anaconda3\\lib\\site-packages (from pymorphy2==0.9.1->deeppavlov) (0.6.2)\n",
      "Requirement already satisfied: dawg-python>=0.7.1 in d:\\progs\\anaconda3\\lib\\site-packages (from pymorphy2==0.9.1->deeppavlov) (0.7.2)\n",
      "Requirement already satisfied: yarl in d:\\progs\\anaconda3\\lib\\site-packages (from aio-pika<6.9.0,>=3.2.2->deeppavlov) (1.8.1)\n",
      "Requirement already satisfied: aiormq<4,>=3.2.3 in d:\\progs\\anaconda3\\lib\\site-packages (from aio-pika<6.9.0,>=3.2.2->deeppavlov) (3.3.1)\n",
      "Requirement already satisfied: starlette==0.19.1 in d:\\progs\\anaconda3\\lib\\site-packages (from fastapi<0.78.0,>=0.47.0->deeppavlov) (0.19.1)\n",
      "Requirement already satisfied: anyio<5,>=3.4.0 in d:\\progs\\anaconda3\\lib\\site-packages (from starlette==0.19.1->fastapi<0.78.0,>=0.47.0->deeppavlov) (3.5.0)\n",
      "Requirement already satisfied: typing-extensions>=3.10.0 in d:\\progs\\anaconda3\\lib\\site-packages (from starlette==0.19.1->fastapi<0.78.0,>=0.47.0->deeppavlov) (4.3.0)\n",
      "Requirement already satisfied: regex>=2021.8.3 in d:\\progs\\anaconda3\\lib\\site-packages (from nltk<3.8.0,>=3.2.5->deeppavlov) (2022.7.9)\n",
      "Requirement already satisfied: click in d:\\progs\\anaconda3\\lib\\site-packages (from nltk<3.8.0,>=3.2.5->deeppavlov) (8.0.4)\n",
      "Requirement already satisfied: joblib in d:\\progs\\anaconda3\\lib\\site-packages (from nltk<3.8.0,>=3.2.5->deeppavlov) (1.1.0)\n",
      "Requirement already satisfied: pytz>=2020.1 in d:\\progs\\anaconda3\\lib\\site-packages (from pandas<1.5.0,>=1.0.0->deeppavlov) (2022.1)\n",
      "Requirement already satisfied: python-dateutil>=2.8.1 in d:\\progs\\anaconda3\\lib\\site-packages (from pandas<1.5.0,>=1.0.0->deeppavlov) (2.8.2)\n",
      "Requirement already satisfied: idna<4,>=2.5 in d:\\progs\\anaconda3\\lib\\site-packages (from requests<3.0.0,>=2.19.0->deeppavlov) (3.3)\n",
      "Requirement already satisfied: urllib3<1.27,>=1.21.1 in d:\\progs\\anaconda3\\lib\\site-packages (from requests<3.0.0,>=2.19.0->deeppavlov) (1.26.11)\n",
      "Requirement already satisfied: certifi>=2017.4.17 in d:\\progs\\anaconda3\\lib\\site-packages (from requests<3.0.0,>=2.19.0->deeppavlov) (2022.9.14)\n",
      "Requirement already satisfied: charset-normalizer<3,>=2 in d:\\progs\\anaconda3\\lib\\site-packages (from requests<3.0.0,>=2.19.0->deeppavlov) (2.0.4)\n",
      "Requirement already satisfied: threadpoolctl>=2.0.0 in d:\\progs\\anaconda3\\lib\\site-packages (from scikit-learn<1.1.0,>=0.24->deeppavlov) (2.2.0)\n",
      "Requirement already satisfied: colorama in d:\\progs\\anaconda3\\lib\\site-packages (from tqdm<4.65.0,>=4.42.0->deeppavlov) (0.4.5)\n",
      "Requirement already satisfied: h11>=0.8 in d:\\progs\\anaconda3\\lib\\site-packages (from uvicorn<0.19.0,>=0.13.0->deeppavlov) (0.14.0)\n",
      "Requirement already satisfied: pamqp==2.3.0 in d:\\progs\\anaconda3\\lib\\site-packages (from aiormq<4,>=3.2.3->aio-pika<6.9.0,>=3.2.2->deeppavlov) (2.3.0)\n",
      "Requirement already satisfied: six>=1.5 in d:\\progs\\anaconda3\\lib\\site-packages (from python-dateutil>=2.8.1->pandas<1.5.0,>=1.0.0->deeppavlov) (1.16.0)\n",
      "Requirement already satisfied: multidict>=4.0 in d:\\progs\\anaconda3\\lib\\site-packages (from yarl->aio-pika<6.9.0,>=3.2.2->deeppavlov) (6.0.2)\n",
      "Requirement already satisfied: sniffio>=1.1 in d:\\progs\\anaconda3\\lib\\site-packages (from anyio<5,>=3.4.0->starlette==0.19.1->fastapi<0.78.0,>=0.47.0->deeppavlov) (1.2.0)\n",
      "Note: you may need to restart the kernel to use updated packages.\n"
     ]
    }
   ],
   "source": [
    "pip install deeppavlov"
   ]
  },
  {
   "cell_type": "code",
   "execution_count": 2,
   "id": "6f86d89d-ec93-40eb-a359-a9e46e216391",
   "metadata": {},
   "outputs": [
    {
     "name": "stdout",
     "output_type": "stream",
     "text": [
      "Collecting ner\n",
      "  Downloading ner-0.1.tar.gz (4.7 kB)\n",
      "  Preparing metadata (setup.py): started\n",
      "  Preparing metadata (setup.py): finished with status 'done'\n",
      "Building wheels for collected packages: ner\n",
      "  Building wheel for ner (setup.py): started\n",
      "  Building wheel for ner (setup.py): finished with status 'done'\n",
      "  Created wheel for ner: filename=ner-0.1-py3-none-any.whl size=5508 sha256=add7d519e81cc1b028fdbb2db5dbb90a9ae91d13f7e0ced70d6abc34620058a4\n",
      "  Stored in directory: c:\\users\\mrant\\appdata\\local\\pip\\cache\\wheels\\34\\b0\\b9\\30d1a4b4ea88d9f54bc4565489e2a12ed81f12fbda112ef092\n",
      "Successfully built ner\n",
      "Installing collected packages: ner\n",
      "Successfully installed ner-0.1\n",
      "Note: you may need to restart the kernel to use updated packages.\n"
     ]
    }
   ],
   "source": [
    "pip install ner"
   ]
  },
  {
   "cell_type": "code",
   "execution_count": null,
   "id": "3380240c-49a8-45d5-ae98-e2e0cb3e6945",
   "metadata": {
    "scrolled": true
   },
   "outputs": [],
   "source": []
  },
  {
   "cell_type": "code",
   "execution_count": 5,
   "id": "e3b88114-cf35-4dba-88ae-44609beb6f99",
   "metadata": {},
   "outputs": [
    {
     "name": "stderr",
     "output_type": "stream",
     "text": [
      "2022-11-24 15:22:41.446 INFO in 'deeppavlov.download'['download'] at line 138: Skipped http://files.deeppavlov.ai/v1/ner/ner_rus_conversational_distilrubert_6L.tar.gz download because of matching hashes\n",
      "2022-11-24 15:22:47.580 INFO in 'deeppavlov.core.data.simple_vocab'['simple_vocab'] at line 112: [loading vocabulary from C:\\Users\\mrant\\.deeppavlov\\models\\ner_rus_conversational_distilrubert_6L\\tag.dict]\n"
     ]
    },
    {
     "data": {
      "application/vnd.jupyter.widget-view+json": {
       "model_id": "beda300d923842998b049d27d39d5ca9",
       "version_major": 2,
       "version_minor": 0
      },
      "text/plain": [
       "Downloading:   0%|          | 0.00/517M [00:00<?, ?B/s]"
      ]
     },
     "metadata": {},
     "output_type": "display_data"
    },
    {
     "name": "stderr",
     "output_type": "stream",
     "text": [
      "Some weights of the model checkpoint at DeepPavlov/distilrubert-base-cased-conversational were not used when initializing DistilBertForTokenClassification: ['vocab_projector.bias', 'vocab_transform.weight', 'vocab_layer_norm.bias', 'vocab_layer_norm.weight', 'vocab_transform.bias', 'vocab_projector.weight']\n",
      "- This IS expected if you are initializing DistilBertForTokenClassification from the checkpoint of a model trained on another task or with another architecture (e.g. initializing a BertForSequenceClassification model from a BertForPreTraining model).\n",
      "- This IS NOT expected if you are initializing DistilBertForTokenClassification from the checkpoint of a model that you expect to be exactly identical (initializing a BertForSequenceClassification model from a BertForSequenceClassification model).\n",
      "Some weights of DistilBertForTokenClassification were not initialized from the model checkpoint at DeepPavlov/distilrubert-base-cased-conversational and are newly initialized: ['classifier.weight', 'classifier.bias']\n",
      "You should probably TRAIN this model on a down-stream task to be able to use it for predictions and inference.\n",
      "2022-11-24 15:28:25.218 INFO in 'deeppavlov.core.models.torch_model'['torch_model'] at line 153: Load path C:\\Users\\mrant\\.deeppavlov\\models\\ner_rus_conversational_distilrubert_6L\\model is given.\n",
      "2022-11-24 15:28:25.220 INFO in 'deeppavlov.core.models.torch_model'['torch_model'] at line 160: Load path C:\\Users\\mrant\\.deeppavlov\\models\\ner_rus_conversational_distilrubert_6L\\model.pth.tar exists.\n",
      "2022-11-24 15:28:25.220 INFO in 'deeppavlov.core.models.torch_model'['torch_model'] at line 161: Initializing `TorchTransformersSequenceTagger` from saved.\n",
      "2022-11-24 15:28:25.221 INFO in 'deeppavlov.core.models.torch_model'['torch_model'] at line 168: Loading weights from C:\\Users\\mrant\\.deeppavlov\\models\\ner_rus_conversational_distilrubert_6L\\model.pth.tar.\n",
      "2022-11-24 15:28:33.272 INFO in 'deeppavlov.core.models.torch_model'['torch_model'] at line 102: Model was successfully initialized! Model summary:\n",
      " DistilBertForTokenClassification(\n",
      "  (distilbert): DistilBertModel(\n",
      "    (embeddings): Embeddings(\n",
      "      (word_embeddings): Embedding(119547, 768, padding_idx=0)\n",
      "      (position_embeddings): Embedding(512, 768)\n",
      "      (LayerNorm): LayerNorm((768,), eps=1e-12, elementwise_affine=True)\n",
      "      (dropout): Dropout(p=0.1, inplace=False)\n",
      "    )\n",
      "    (transformer): Transformer(\n",
      "      (layer): ModuleList(\n",
      "        (0): TransformerBlock(\n",
      "          (attention): MultiHeadSelfAttention(\n",
      "            (dropout): Dropout(p=0.1, inplace=False)\n",
      "            (q_lin): Linear(in_features=768, out_features=768, bias=True)\n",
      "            (k_lin): Linear(in_features=768, out_features=768, bias=True)\n",
      "            (v_lin): Linear(in_features=768, out_features=768, bias=True)\n",
      "            (out_lin): Linear(in_features=768, out_features=768, bias=True)\n",
      "          )\n",
      "          (sa_layer_norm): LayerNorm((768,), eps=1e-12, elementwise_affine=True)\n",
      "          (ffn): FFN(\n",
      "            (dropout): Dropout(p=0.1, inplace=False)\n",
      "            (lin1): Linear(in_features=768, out_features=3072, bias=True)\n",
      "            (lin2): Linear(in_features=3072, out_features=768, bias=True)\n",
      "            (activation): GELUActivation()\n",
      "          )\n",
      "          (output_layer_norm): LayerNorm((768,), eps=1e-12, elementwise_affine=True)\n",
      "        )\n",
      "        (1): TransformerBlock(\n",
      "          (attention): MultiHeadSelfAttention(\n",
      "            (dropout): Dropout(p=0.1, inplace=False)\n",
      "            (q_lin): Linear(in_features=768, out_features=768, bias=True)\n",
      "            (k_lin): Linear(in_features=768, out_features=768, bias=True)\n",
      "            (v_lin): Linear(in_features=768, out_features=768, bias=True)\n",
      "            (out_lin): Linear(in_features=768, out_features=768, bias=True)\n",
      "          )\n",
      "          (sa_layer_norm): LayerNorm((768,), eps=1e-12, elementwise_affine=True)\n",
      "          (ffn): FFN(\n",
      "            (dropout): Dropout(p=0.1, inplace=False)\n",
      "            (lin1): Linear(in_features=768, out_features=3072, bias=True)\n",
      "            (lin2): Linear(in_features=3072, out_features=768, bias=True)\n",
      "            (activation): GELUActivation()\n",
      "          )\n",
      "          (output_layer_norm): LayerNorm((768,), eps=1e-12, elementwise_affine=True)\n",
      "        )\n",
      "        (2): TransformerBlock(\n",
      "          (attention): MultiHeadSelfAttention(\n",
      "            (dropout): Dropout(p=0.1, inplace=False)\n",
      "            (q_lin): Linear(in_features=768, out_features=768, bias=True)\n",
      "            (k_lin): Linear(in_features=768, out_features=768, bias=True)\n",
      "            (v_lin): Linear(in_features=768, out_features=768, bias=True)\n",
      "            (out_lin): Linear(in_features=768, out_features=768, bias=True)\n",
      "          )\n",
      "          (sa_layer_norm): LayerNorm((768,), eps=1e-12, elementwise_affine=True)\n",
      "          (ffn): FFN(\n",
      "            (dropout): Dropout(p=0.1, inplace=False)\n",
      "            (lin1): Linear(in_features=768, out_features=3072, bias=True)\n",
      "            (lin2): Linear(in_features=3072, out_features=768, bias=True)\n",
      "            (activation): GELUActivation()\n",
      "          )\n",
      "          (output_layer_norm): LayerNorm((768,), eps=1e-12, elementwise_affine=True)\n",
      "        )\n",
      "        (3): TransformerBlock(\n",
      "          (attention): MultiHeadSelfAttention(\n",
      "            (dropout): Dropout(p=0.1, inplace=False)\n",
      "            (q_lin): Linear(in_features=768, out_features=768, bias=True)\n",
      "            (k_lin): Linear(in_features=768, out_features=768, bias=True)\n",
      "            (v_lin): Linear(in_features=768, out_features=768, bias=True)\n",
      "            (out_lin): Linear(in_features=768, out_features=768, bias=True)\n",
      "          )\n",
      "          (sa_layer_norm): LayerNorm((768,), eps=1e-12, elementwise_affine=True)\n",
      "          (ffn): FFN(\n",
      "            (dropout): Dropout(p=0.1, inplace=False)\n",
      "            (lin1): Linear(in_features=768, out_features=3072, bias=True)\n",
      "            (lin2): Linear(in_features=3072, out_features=768, bias=True)\n",
      "            (activation): GELUActivation()\n",
      "          )\n",
      "          (output_layer_norm): LayerNorm((768,), eps=1e-12, elementwise_affine=True)\n",
      "        )\n",
      "        (4): TransformerBlock(\n",
      "          (attention): MultiHeadSelfAttention(\n",
      "            (dropout): Dropout(p=0.1, inplace=False)\n",
      "            (q_lin): Linear(in_features=768, out_features=768, bias=True)\n",
      "            (k_lin): Linear(in_features=768, out_features=768, bias=True)\n",
      "            (v_lin): Linear(in_features=768, out_features=768, bias=True)\n",
      "            (out_lin): Linear(in_features=768, out_features=768, bias=True)\n",
      "          )\n",
      "          (sa_layer_norm): LayerNorm((768,), eps=1e-12, elementwise_affine=True)\n",
      "          (ffn): FFN(\n",
      "            (dropout): Dropout(p=0.1, inplace=False)\n",
      "            (lin1): Linear(in_features=768, out_features=3072, bias=True)\n",
      "            (lin2): Linear(in_features=3072, out_features=768, bias=True)\n",
      "            (activation): GELUActivation()\n",
      "          )\n",
      "          (output_layer_norm): LayerNorm((768,), eps=1e-12, elementwise_affine=True)\n",
      "        )\n",
      "        (5): TransformerBlock(\n",
      "          (attention): MultiHeadSelfAttention(\n",
      "            (dropout): Dropout(p=0.1, inplace=False)\n",
      "            (q_lin): Linear(in_features=768, out_features=768, bias=True)\n",
      "            (k_lin): Linear(in_features=768, out_features=768, bias=True)\n",
      "            (v_lin): Linear(in_features=768, out_features=768, bias=True)\n",
      "            (out_lin): Linear(in_features=768, out_features=768, bias=True)\n",
      "          )\n",
      "          (sa_layer_norm): LayerNorm((768,), eps=1e-12, elementwise_affine=True)\n",
      "          (ffn): FFN(\n",
      "            (dropout): Dropout(p=0.1, inplace=False)\n",
      "            (lin1): Linear(in_features=768, out_features=3072, bias=True)\n",
      "            (lin2): Linear(in_features=3072, out_features=768, bias=True)\n",
      "            (activation): GELUActivation()\n",
      "          )\n",
      "          (output_layer_norm): LayerNorm((768,), eps=1e-12, elementwise_affine=True)\n",
      "        )\n",
      "      )\n",
      "    )\n",
      "  )\n",
      "  (dropout): Dropout(p=0.1, inplace=False)\n",
      "  (classifier): Linear(in_features=768, out_features=7, bias=True)\n",
      ")\n"
     ]
    }
   ],
   "source": [
    "from deeppavlov import build_model\n",
    "\n",
    "model = build_model('ner_rus_convers_distilrubert_6L', download=True)"
   ]
  },
  {
   "cell_type": "code",
   "execution_count": 6,
   "id": "819b5700-5a4f-40fc-a511-d13b7b674ea1",
   "metadata": {},
   "outputs": [
    {
     "data": {
      "text/plain": [
       "[[['New', '-', 'York', 'is', 'great', 'country'], ['Country']],\n",
       " [['B-LOC', 'I-LOC', 'I-LOC', 'O', 'O', 'O'], ['O']]]"
      ]
     },
     "execution_count": 6,
     "metadata": {},
     "output_type": "execute_result"
    }
   ],
   "source": [
    "model(['New-York is great country','Country'])"
   ]
  },
  {
   "cell_type": "code",
   "execution_count": null,
   "id": "593f0c19-8407-4ac3-82a4-fa3fb56abec5",
   "metadata": {},
   "outputs": [],
   "source": []
  }
 ],
 "metadata": {
  "kernelspec": {
   "display_name": "Python 3 (ipykernel)",
   "language": "python",
   "name": "python3"
  },
  "language_info": {
   "codemirror_mode": {
    "name": "ipython",
    "version": 3
   },
   "file_extension": ".py",
   "mimetype": "text/x-python",
   "name": "python",
   "nbconvert_exporter": "python",
   "pygments_lexer": "ipython3",
   "version": "3.9.13"
  }
 },
 "nbformat": 4,
 "nbformat_minor": 5
}
