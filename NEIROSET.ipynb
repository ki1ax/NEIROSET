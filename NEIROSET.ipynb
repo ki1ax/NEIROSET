{
 "cells": [
  {
   "cell_type": "code",
   "execution_count": 1,
   "id": "fb17d707",
   "metadata": {},
   "outputs": [
    {
     "name": "stdout",
     "output_type": "stream",
     "text": [
      "Collecting deeppavlov\n",
      "  Using cached deeppavlov-1.0.1-py3-none-any.whl (441 kB)\n",
      "Collecting pymorphy2==0.9.1\n",
      "  Using cached pymorphy2-0.9.1-py3-none-any.whl (55 kB)\n",
      "Collecting aio-pika<6.9.0,>=3.2.2\n",
      "  Using cached aio_pika-6.8.2-py3-none-any.whl (42 kB)\n",
      "Requirement already satisfied: scipy<1.9.0 in c:\\users\\mrant\\anaconda3\\envs\\tensorflowenv\\lib\\site-packages (from deeppavlov) (1.7.3)\n",
      "Collecting filelock<3.8.0,>=3.0.0\n",
      "  Using cached filelock-3.7.1-py3-none-any.whl (10 kB)\n",
      "Collecting fastapi<0.78.0,>=0.47.0\n",
      "  Using cached fastapi-0.77.1-py3-none-any.whl (54 kB)\n",
      "Requirement already satisfied: prometheus-client<0.15.0,>=0.13.0 in c:\\users\\mrant\\anaconda3\\envs\\tensorflowenv\\lib\\site-packages (from deeppavlov) (0.14.1)\n",
      "Collecting pydantic\n",
      "  Using cached pydantic-1.10.2-cp37-cp37m-win_amd64.whl (2.1 MB)\n",
      "Requirement already satisfied: requests<3.0.0,>=2.19.0 in c:\\users\\mrant\\anaconda3\\envs\\tensorflowenv\\lib\\site-packages (from deeppavlov) (2.28.1)\n",
      "Collecting uvicorn<0.19.0,>=0.13.0\n",
      "  Using cached uvicorn-0.18.3-py3-none-any.whl (57 kB)\n",
      "Collecting tqdm<4.65.0,>=4.42.0\n",
      "  Using cached tqdm-4.64.1-py2.py3-none-any.whl (78 kB)\n",
      "Collecting overrides==4.1.2\n",
      "  Using cached overrides-4.1.2-py3-none-any.whl (11 kB)\n",
      "Collecting pandas<1.5.0,>=1.0.0\n",
      "  Using cached pandas-1.3.5-cp37-cp37m-win_amd64.whl (10.0 MB)\n",
      "Collecting nltk<3.8.0,>=3.2.5\n",
      "  Using cached nltk-3.7-py3-none-any.whl (1.5 MB)\n",
      "Collecting scikit-learn<1.1.0,>=0.24\n",
      "  Using cached scikit_learn-1.0.2-cp37-cp37m-win_amd64.whl (7.1 MB)\n",
      "Collecting pybind11==2.2.4\n",
      "  Using cached pybind11-2.2.4-py2.py3-none-any.whl (145 kB)\n",
      "Requirement already satisfied: numpy in c:\\users\\mrant\\anaconda3\\envs\\tensorflowenv\\lib\\site-packages (from deeppavlov) (1.21.5)\n",
      "Collecting typing-utils>=0.0.3\n",
      "  Using cached typing_utils-0.1.0-py3-none-any.whl (10 kB)\n",
      "Collecting pymorphy2-dicts-ru<3.0,>=2.4\n",
      "  Using cached pymorphy2_dicts_ru-2.4.417127.4579844-py2.py3-none-any.whl (8.2 MB)\n",
      "Collecting docopt>=0.6\n",
      "  Using cached docopt-0.6.2-py2.py3-none-any.whl\n",
      "Collecting dawg-python>=0.7.1\n",
      "  Using cached DAWG_Python-0.7.2-py2.py3-none-any.whl (11 kB)\n",
      "Requirement already satisfied: yarl in c:\\users\\mrant\\anaconda3\\envs\\tensorflowenv\\lib\\site-packages (from aio-pika<6.9.0,>=3.2.2->deeppavlov) (1.8.1)\n",
      "Collecting aiormq<4,>=3.2.3\n",
      "  Using cached aiormq-3.3.1-py3-none-any.whl (28 kB)\n",
      "Collecting starlette==0.19.1\n",
      "  Using cached starlette-0.19.1-py3-none-any.whl (63 kB)\n",
      "Requirement already satisfied: anyio<5,>=3.4.0 in c:\\users\\mrant\\anaconda3\\envs\\tensorflowenv\\lib\\site-packages (from starlette==0.19.1->fastapi<0.78.0,>=0.47.0->deeppavlov) (3.5.0)\n",
      "Requirement already satisfied: typing-extensions>=3.10.0 in c:\\users\\mrant\\anaconda3\\envs\\tensorflowenv\\lib\\site-packages (from starlette==0.19.1->fastapi<0.78.0,>=0.47.0->deeppavlov) (4.3.0)\n",
      "Requirement already satisfied: click in c:\\users\\mrant\\anaconda3\\envs\\tensorflowenv\\lib\\site-packages (from nltk<3.8.0,>=3.2.5->deeppavlov) (8.0.4)\n",
      "Collecting joblib\n",
      "  Using cached joblib-1.2.0-py3-none-any.whl (297 kB)\n",
      "Collecting regex>=2021.8.3\n",
      "  Using cached regex-2022.10.31-cp37-cp37m-win_amd64.whl (268 kB)\n",
      "Requirement already satisfied: python-dateutil>=2.7.3 in c:\\users\\mrant\\anaconda3\\envs\\tensorflowenv\\lib\\site-packages (from pandas<1.5.0,>=1.0.0->deeppavlov) (2.8.2)\n",
      "Collecting pytz>=2017.3\n",
      "  Using cached pytz-2022.6-py2.py3-none-any.whl (498 kB)\n",
      "Requirement already satisfied: urllib3<1.27,>=1.21.1 in c:\\users\\mrant\\anaconda3\\envs\\tensorflowenv\\lib\\site-packages (from requests<3.0.0,>=2.19.0->deeppavlov) (1.26.12)\n",
      "Requirement already satisfied: idna<4,>=2.5 in c:\\users\\mrant\\anaconda3\\envs\\tensorflowenv\\lib\\site-packages (from requests<3.0.0,>=2.19.0->deeppavlov) (3.4)\n",
      "Requirement already satisfied: certifi>=2017.4.17 in c:\\users\\mrant\\anaconda3\\envs\\tensorflowenv\\lib\\site-packages (from requests<3.0.0,>=2.19.0->deeppavlov) (2022.9.24)\n",
      "Requirement already satisfied: charset-normalizer<3,>=2 in c:\\users\\mrant\\anaconda3\\envs\\tensorflowenv\\lib\\site-packages (from requests<3.0.0,>=2.19.0->deeppavlov) (2.0.4)\n",
      "Collecting threadpoolctl>=2.0.0\n",
      "  Using cached threadpoolctl-3.1.0-py3-none-any.whl (14 kB)\n",
      "Requirement already satisfied: colorama in c:\\users\\mrant\\anaconda3\\envs\\tensorflowenv\\lib\\site-packages (from tqdm<4.65.0,>=4.42.0->deeppavlov) (0.4.5)\n",
      "Collecting h11>=0.8\n",
      "  Using cached h11-0.14.0-py3-none-any.whl (58 kB)\n",
      "Collecting pamqp==2.3.0\n",
      "  Using cached pamqp-2.3.0-py2.py3-none-any.whl (28 kB)\n",
      "Requirement already satisfied: importlib-metadata in c:\\users\\mrant\\anaconda3\\envs\\tensorflowenv\\lib\\site-packages (from click->nltk<3.8.0,>=3.2.5->deeppavlov) (4.11.3)\n",
      "Requirement already satisfied: six>=1.5 in c:\\users\\mrant\\anaconda3\\envs\\tensorflowenv\\lib\\site-packages (from python-dateutil>=2.7.3->pandas<1.5.0,>=1.0.0->deeppavlov) (1.16.0)\n",
      "Requirement already satisfied: multidict>=4.0 in c:\\users\\mrant\\anaconda3\\envs\\tensorflowenv\\lib\\site-packages (from yarl->aio-pika<6.9.0,>=3.2.2->deeppavlov) (6.0.2)\n",
      "Requirement already satisfied: sniffio>=1.1 in c:\\users\\mrant\\anaconda3\\envs\\tensorflowenv\\lib\\site-packages (from anyio<5,>=3.4.0->starlette==0.19.1->fastapi<0.78.0,>=0.47.0->deeppavlov) (1.2.0)\n",
      "Requirement already satisfied: zipp>=0.5 in c:\\users\\mrant\\anaconda3\\envs\\tensorflowenv\\lib\\site-packages (from importlib-metadata->click->nltk<3.8.0,>=3.2.5->deeppavlov) (3.8.0)\n",
      "Installing collected packages: pytz, pymorphy2-dicts-ru, pybind11, pamqp, docopt, dawg-python, typing-utils, tqdm, threadpoolctl, regex, pymorphy2, pydantic, joblib, h11, filelock, starlette, scikit-learn, pandas, overrides, aiormq, uvicorn, nltk, fastapi, aio-pika, deeppavlov\n",
      "Successfully installed aio-pika-6.8.2 aiormq-3.3.1 dawg-python-0.7.2 deeppavlov-1.0.1 docopt-0.6.2 fastapi-0.77.1 filelock-3.7.1 h11-0.14.0 joblib-1.2.0 nltk-3.7 overrides-4.1.2 pamqp-2.3.0 pandas-1.3.5 pybind11-2.2.4 pydantic-1.10.2 pymorphy2-0.9.1 pymorphy2-dicts-ru-2.4.417127.4579844 pytz-2022.6 regex-2022.10.31 scikit-learn-1.0.2 starlette-0.19.1 threadpoolctl-3.1.0 tqdm-4.64.1 typing-utils-0.1.0 uvicorn-0.18.3\n",
      "Note: you may need to restart the kernel to use updated packages.\n"
     ]
    }
   ],
   "source": [
    "pip install deeppavlov"
   ]
  },
  {
   "cell_type": "code",
   "execution_count": 2,
   "id": "85503f0b",
   "metadata": {},
   "outputs": [
    {
     "name": "stdout",
     "output_type": "stream",
     "text": [
      "Collecting ner\n",
      "  Using cached ner-0.1-py3-none-any.whl\n",
      "Installing collected packages: ner\n",
      "Successfully installed ner-0.1\n",
      "Note: you may need to restart the kernel to use updated packages.\n"
     ]
    }
   ],
   "source": [
    "pip install ner"
   ]
  },
  {
   "cell_type": "code",
   "execution_count": 3,
   "id": "58c095bd",
   "metadata": {
    "scrolled": false
   },
   "outputs": [
    {
     "name": "stderr",
     "output_type": "stream",
     "text": [
      "2022-12-01 20:33:16.651 INFO in 'deeppavlov.core.data.utils'['utils'] at line 95: Downloading from http://files.deeppavlov.ai/v1/ner/ner_rus_conversational_distilrubert_6L.tar.gz to C:\\Users\\mrant\\.deeppavlov\\ner_rus_conversational_distilrubert_6L.tar.gz\n",
      "100%|██████████| 951M/951M [18:56<00:00, 836kB/s]   \n",
      "2022-12-01 20:52:14.442 INFO in 'deeppavlov.core.data.utils'['utils'] at line 276: Extracting C:\\Users\\mrant\\.deeppavlov\\ner_rus_conversational_distilrubert_6L.tar.gz archive into C:\\Users\\mrant\\.deeppavlov\\models\n",
      "C:\\Users\\mrant\\anaconda3\\envs\\tensorflowenv\\lib\\site-packages\\tqdm\\auto.py:22: TqdmWarning: IProgress not found. Please update jupyter and ipywidgets. See https://ipywidgets.readthedocs.io/en/stable/user_install.html\n",
      "  from .autonotebook import tqdm as notebook_tqdm\n",
      "Some weights of the model checkpoint at DeepPavlov/distilrubert-base-cased-conversational were not used when initializing DistilBertForTokenClassification: ['vocab_transform.weight', 'vocab_layer_norm.bias', 'vocab_layer_norm.weight', 'vocab_transform.bias', 'vocab_projector.weight', 'vocab_projector.bias']\n",
      "- This IS expected if you are initializing DistilBertForTokenClassification from the checkpoint of a model trained on another task or with another architecture (e.g. initializing a BertForSequenceClassification model from a BertForPreTraining model).\n",
      "- This IS NOT expected if you are initializing DistilBertForTokenClassification from the checkpoint of a model that you expect to be exactly identical (initializing a BertForSequenceClassification model from a BertForSequenceClassification model).\n",
      "Some weights of DistilBertForTokenClassification were not initialized from the model checkpoint at DeepPavlov/distilrubert-base-cased-conversational and are newly initialized: ['classifier.bias', 'classifier.weight']\n",
      "You should probably TRAIN this model on a down-stream task to be able to use it for predictions and inference.\n"
     ]
    }
   ],
   "source": [
    "from deeppavlov import configs, build_model\n",
    "\n",
    "model = build_model('ner_rus_convers_distilrubert_6L', download=True, load_trained=True)"
   ]
  },
  {
   "cell_type": "code",
   "execution_count": 4,
   "id": "b1b7204b",
   "metadata": {},
   "outputs": [
    {
     "data": {
      "text/plain": [
       "[[['New', '-', 'York', 'is', 'a', 'great', 'city'], ['City']],\n",
       " [['B-LOC', 'I-LOC', 'I-LOC', 'O', 'O', 'O', 'O'], ['O']]]"
      ]
     },
     "execution_count": 4,
     "metadata": {},
     "output_type": "execute_result"
    }
   ],
   "source": [
    "model(['New-York is a great city','City'])"
   ]
  },
  {
   "cell_type": "code",
   "execution_count": 13,
   "id": "dfd53197",
   "metadata": {},
   "outputs": [
    {
     "ename": "SyntaxError",
     "evalue": "invalid syntax (4194337767.py, line 1)",
     "output_type": "error",
     "traceback": [
      "\u001b[1;36m  File \u001b[1;32m\"C:\\Users\\mrant\\AppData\\Local\\Temp\\ipykernel_9436\\4194337767.py\"\u001b[1;36m, line \u001b[1;32m1\u001b[0m\n\u001b[1;33m    python -m deeppavlov riseapi ner_rus_convers_distilrubert_6L -p 5005\u001b[0m\n\u001b[1;37m                       ^\u001b[0m\n\u001b[1;31mSyntaxError\u001b[0m\u001b[1;31m:\u001b[0m invalid syntax\n"
     ]
    }
   ],
   "source": []
  },
  {
   "cell_type": "code",
   "execution_count": 12,
   "id": "21a085d6",
   "metadata": {},
   "outputs": [
    {
     "ename": "SyntaxError",
     "evalue": "invalid syntax (532594582.py, line 1)",
     "output_type": "error",
     "traceback": [
      "\u001b[1;36m  File \u001b[1;32m\"C:\\Users\\mrant\\AppData\\Local\\Temp\\ipykernel_9436\\532594582.py\"\u001b[1;36m, line \u001b[1;32m1\u001b[0m\n\u001b[1;33m    python -m deeppavlov install ner_rus_convers_distilrubert_6L\u001b[0m\n\u001b[1;37m                       ^\u001b[0m\n\u001b[1;31mSyntaxError\u001b[0m\u001b[1;31m:\u001b[0m invalid syntax\n"
     ]
    }
   ],
   "source": []
  },
  {
   "cell_type": "code",
   "execution_count": null,
   "id": "32314826",
   "metadata": {},
   "outputs": [],
   "source": []
  }
 ],
 "metadata": {
  "kernelspec": {
   "display_name": "Python 3 (ipykernel)",
   "language": "python",
   "name": "python3"
  },
  "language_info": {
   "codemirror_mode": {
    "name": "ipython",
    "version": 3
   },
   "file_extension": ".py",
   "mimetype": "text/x-python",
   "name": "python",
   "nbconvert_exporter": "python",
   "pygments_lexer": "ipython3",
   "version": "3.7.15"
  }
 },
 "nbformat": 4,
 "nbformat_minor": 5
}
