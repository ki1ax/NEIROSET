{
 "cells": [
  {
   "cell_type": "code",
   "execution_count": 1,
   "id": "efb95835",
   "metadata": {},
   "outputs": [
    {
     "name": "stdout",
     "output_type": "stream",
     "text": [
      "Hello World?\n"
     ]
    }
   ],
   "source": [
    "print (\"Hello World?\")"
   ]
  },
  {
   "cell_type": "code",
   "execution_count": 2,
   "id": "015e3d3c",
   "metadata": {},
   "outputs": [
    {
     "name": "stdout",
     "output_type": "stream",
     "text": [
      "Collecting deeppavlov\n",
      "  Downloading deeppavlov-1.0.0-py3-none-any.whl (441 kB)\n",
      "     ------------------------------------ 441.3/441.3 kB 919.2 kB/s eta 0:00:00\n",
      "Collecting fastapi<0.78.0,>=0.47.0\n",
      "  Downloading fastapi-0.77.1-py3-none-any.whl (54 kB)\n",
      "     ---------------------------------------- 54.5/54.5 kB 2.8 MB/s eta 0:00:00\n",
      "Collecting pydantic\n",
      "  Downloading pydantic-1.10.2-cp39-cp39-win_amd64.whl (2.1 MB)\n",
      "     ---------------------------------------- 2.1/2.1 MB 957.4 kB/s eta 0:00:00\n",
      "Requirement already satisfied: scikit-learn<1.1.0,>=0.24 in d:\\progs\\anaconda3\\lib\\site-packages (from deeppavlov) (1.0.2)\n",
      "Requirement already satisfied: tqdm<4.65.0,>=4.42.0 in d:\\progs\\anaconda3\\lib\\site-packages (from deeppavlov) (4.64.1)\n",
      "Collecting pybind11==2.2.4\n",
      "  Downloading pybind11-2.2.4-py2.py3-none-any.whl (145 kB)\n",
      "     ------------------------------------ 145.2/145.2 kB 963.7 kB/s eta 0:00:00\n",
      "Requirement already satisfied: filelock<3.8.0,>=3.0.0 in d:\\progs\\anaconda3\\lib\\site-packages (from deeppavlov) (3.6.0)\n",
      "Collecting uvicorn<0.19.0,>=0.13.0\n",
      "  Downloading uvicorn-0.18.3-py3-none-any.whl (57 kB)\n",
      "     ---------------------------------------- 57.4/57.4 kB 1.5 MB/s eta 0:00:00\n",
      "Collecting overrides==4.1.2\n",
      "  Downloading overrides-4.1.2-py3-none-any.whl (11 kB)\n",
      "Collecting scipy<1.9.0\n",
      "  Downloading scipy-1.8.1-cp39-cp39-win_amd64.whl (36.9 MB)\n",
      "     -------------------------------------- 36.9/36.9 MB 939.8 kB/s eta 0:00:00\n",
      "Requirement already satisfied: nltk<3.8.0,>=3.2.5 in d:\\progs\\anaconda3\\lib\\site-packages (from deeppavlov) (3.7)\n",
      "Requirement already satisfied: pandas<1.5.0,>=1.0.0 in d:\\progs\\anaconda3\\lib\\site-packages (from deeppavlov) (1.4.4)\n",
      "Requirement already satisfied: prometheus-client<0.15.0,>=0.13.0 in d:\\progs\\anaconda3\\lib\\site-packages (from deeppavlov) (0.14.1)\n",
      "Collecting aio-pika<6.9.0,>=3.2.2\n",
      "  Using cached aio_pika-6.8.2-py3-none-any.whl (42 kB)\n",
      "Collecting pymorphy2==0.9.1\n",
      "  Downloading pymorphy2-0.9.1-py3-none-any.whl (55 kB)\n",
      "     ---------------------------------------- 55.5/55.5 kB 1.4 MB/s eta 0:00:00\n",
      "Requirement already satisfied: requests<3.0.0,>=2.19.0 in d:\\progs\\anaconda3\\lib\\site-packages (from deeppavlov) (2.28.1)\n",
      "Requirement already satisfied: numpy in d:\\progs\\anaconda3\\lib\\site-packages (from deeppavlov) (1.21.5)\n",
      "Collecting typing-utils>=0.0.3\n",
      "  Downloading typing_utils-0.1.0-py3-none-any.whl (10 kB)\n",
      "Collecting pymorphy2-dicts-ru<3.0,>=2.4\n",
      "  Downloading pymorphy2_dicts_ru-2.4.417127.4579844-py2.py3-none-any.whl (8.2 MB)\n",
      "     ---------------------------------------- 8.2/8.2 MB 947.5 kB/s eta 0:00:00\n",
      "Collecting docopt>=0.6\n",
      "  Downloading docopt-0.6.2.tar.gz (25 kB)\n",
      "  Preparing metadata (setup.py): started\n",
      "  Preparing metadata (setup.py): finished with status 'done'\n",
      "Collecting dawg-python>=0.7.1\n",
      "  Downloading DAWG_Python-0.7.2-py2.py3-none-any.whl (11 kB)\n",
      "Collecting aiormq<4,>=3.2.3\n",
      "  Downloading aiormq-3.3.1-py3-none-any.whl (28 kB)\n",
      "Collecting yarl\n",
      "  Downloading yarl-1.8.1-cp39-cp39-win_amd64.whl (56 kB)\n",
      "     ---------------------------------------- 56.7/56.7 kB 1.5 MB/s eta 0:00:00\n",
      "Collecting starlette==0.19.1\n",
      "  Downloading starlette-0.19.1-py3-none-any.whl (63 kB)\n",
      "     ---------------------------------------- 63.3/63.3 kB 1.1 MB/s eta 0:00:00\n",
      "Requirement already satisfied: typing-extensions>=3.10.0 in d:\\progs\\anaconda3\\lib\\site-packages (from starlette==0.19.1->fastapi<0.78.0,>=0.47.0->deeppavlov) (4.3.0)\n",
      "Requirement already satisfied: anyio<5,>=3.4.0 in d:\\progs\\anaconda3\\lib\\site-packages (from starlette==0.19.1->fastapi<0.78.0,>=0.47.0->deeppavlov) (3.5.0)\n",
      "Requirement already satisfied: click in d:\\progs\\anaconda3\\lib\\site-packages (from nltk<3.8.0,>=3.2.5->deeppavlov) (8.0.4)\n",
      "Requirement already satisfied: regex>=2021.8.3 in d:\\progs\\anaconda3\\lib\\site-packages (from nltk<3.8.0,>=3.2.5->deeppavlov) (2022.7.9)\n",
      "Requirement already satisfied: joblib in d:\\progs\\anaconda3\\lib\\site-packages (from nltk<3.8.0,>=3.2.5->deeppavlov) (1.1.0)\n",
      "Requirement already satisfied: pytz>=2020.1 in d:\\progs\\anaconda3\\lib\\site-packages (from pandas<1.5.0,>=1.0.0->deeppavlov) (2022.1)\n",
      "Requirement already satisfied: python-dateutil>=2.8.1 in d:\\progs\\anaconda3\\lib\\site-packages (from pandas<1.5.0,>=1.0.0->deeppavlov) (2.8.2)\n",
      "Requirement already satisfied: certifi>=2017.4.17 in d:\\progs\\anaconda3\\lib\\site-packages (from requests<3.0.0,>=2.19.0->deeppavlov) (2022.9.14)\n",
      "Requirement already satisfied: idna<4,>=2.5 in d:\\progs\\anaconda3\\lib\\site-packages (from requests<3.0.0,>=2.19.0->deeppavlov) (3.3)\n",
      "Requirement already satisfied: charset-normalizer<3,>=2 in d:\\progs\\anaconda3\\lib\\site-packages (from requests<3.0.0,>=2.19.0->deeppavlov) (2.0.4)\n",
      "Requirement already satisfied: urllib3<1.27,>=1.21.1 in d:\\progs\\anaconda3\\lib\\site-packages (from requests<3.0.0,>=2.19.0->deeppavlov) (1.26.11)\n",
      "Requirement already satisfied: threadpoolctl>=2.0.0 in d:\\progs\\anaconda3\\lib\\site-packages (from scikit-learn<1.1.0,>=0.24->deeppavlov) (2.2.0)\n",
      "Requirement already satisfied: colorama in d:\\progs\\anaconda3\\lib\\site-packages (from tqdm<4.65.0,>=4.42.0->deeppavlov) (0.4.5)\n",
      "Collecting h11>=0.8\n",
      "  Downloading h11-0.14.0-py3-none-any.whl (58 kB)\n",
      "     ---------------------------------------- 58.3/58.3 kB 1.5 MB/s eta 0:00:00\n",
      "Collecting pamqp==2.3.0\n",
      "  Downloading pamqp-2.3.0-py2.py3-none-any.whl (28 kB)\n",
      "Requirement already satisfied: six>=1.5 in d:\\progs\\anaconda3\\lib\\site-packages (from python-dateutil>=2.8.1->pandas<1.5.0,>=1.0.0->deeppavlov) (1.16.0)\n",
      "Collecting multidict>=4.0\n",
      "  Downloading multidict-6.0.2-cp39-cp39-win_amd64.whl (28 kB)\n",
      "Requirement already satisfied: sniffio>=1.1 in d:\\progs\\anaconda3\\lib\\site-packages (from anyio<5,>=3.4.0->starlette==0.19.1->fastapi<0.78.0,>=0.47.0->deeppavlov) (1.2.0)\n",
      "Building wheels for collected packages: docopt\n",
      "  Building wheel for docopt (setup.py): started\n",
      "  Building wheel for docopt (setup.py): finished with status 'done'\n",
      "  Created wheel for docopt: filename=docopt-0.6.2-py2.py3-none-any.whl size=13706 sha256=b022cdecba308f6237f3133873845d58fca89e143dda4352e2ba57a6b13629f8\n",
      "  Stored in directory: c:\\users\\mrant\\appdata\\local\\pip\\cache\\wheels\\70\\4a\\46\\1309fc853b8d395e60bafaf1b6df7845bdd82c95fd59dd8d2b\n",
      "Successfully built docopt\n",
      "Installing collected packages: pymorphy2-dicts-ru, pybind11, pamqp, docopt, dawg-python, typing-utils, scipy, pymorphy2, pydantic, multidict, h11, yarl, uvicorn, starlette, overrides, fastapi, aiormq, aio-pika, deeppavlov\n",
      "  Attempting uninstall: scipy\n",
      "    Found existing installation: scipy 1.9.1\n",
      "    Uninstalling scipy-1.9.1:\n",
      "      Successfully uninstalled scipy-1.9.1\n",
      "Successfully installed aio-pika-6.8.2 aiormq-3.3.1 dawg-python-0.7.2 deeppavlov-1.0.0 docopt-0.6.2 fastapi-0.77.1 h11-0.14.0 multidict-6.0.2 overrides-4.1.2 pamqp-2.3.0 pybind11-2.2.4 pydantic-1.10.2 pymorphy2-0.9.1 pymorphy2-dicts-ru-2.4.417127.4579844 scipy-1.8.1 starlette-0.19.1 typing-utils-0.1.0 uvicorn-0.18.3 yarl-1.8.1\n",
      "Note: you may need to restart the kernel to use updated packages.\n"
     ]
    }
   ],
   "source": [
    "pip install deeppavlov"
   ]
  },
  {
   "cell_type": "code",
   "execution_count": 3,
   "id": "47ea4d52",
   "metadata": {},
   "outputs": [
    {
     "ename": "SyntaxError",
     "evalue": "invalid syntax (789984025.py, line 1)",
     "output_type": "error",
     "traceback": [
      "\u001b[1;36m  File \u001b[1;32m\"C:\\Users\\mrant\\AppData\\Local\\Temp\\ipykernel_12764\\789984025.py\"\u001b[1;36m, line \u001b[1;32m1\u001b[0m\n\u001b[1;33m    python -m deeppavlov install ner_ontonotes_bert_torch\u001b[0m\n\u001b[1;37m              ^\u001b[0m\n\u001b[1;31mSyntaxError\u001b[0m\u001b[1;31m:\u001b[0m invalid syntax\n"
     ]
    }
   ],
   "source": [
    "python -m deeppavlov install ner_ontonotes_bert_torch"
   ]
  },
  {
   "cell_type": "code",
   "execution_count": 4,
   "id": "eca6ddb3",
   "metadata": {},
   "outputs": [
    {
     "name": "stdout",
     "output_type": "stream",
     "text": [
      "Collecting torch<1.13.0,>=1.6.0\n",
      "  Downloading torch-1.12.1-cp39-cp39-win_amd64.whl (161.8 MB)\n",
      "     ------------------------------------ 161.8/161.8 MB 780.1 kB/s eta 0:00:00\n",
      "Requirement already satisfied: typing-extensions in d:\\progs\\anaconda3\\lib\\site-packages (from torch<1.13.0,>=1.6.0) (4.3.0)\n",
      "Installing collected packages: torch\n",
      "Successfully installed torch-1.12.1\n",
      "Collecting transformers<4.21.0,>=4.13.0\n",
      "  Downloading transformers-4.20.1-py3-none-any.whl (4.4 MB)\n",
      "     ---------------------------------------- 4.4/4.4 MB 1.0 MB/s eta 0:00:00\n",
      "Requirement already satisfied: packaging>=20.0 in d:\\progs\\anaconda3\\lib\\site-packages (from transformers<4.21.0,>=4.13.0) (21.3)\n",
      "Requirement already satisfied: regex!=2019.12.17 in d:\\progs\\anaconda3\\lib\\site-packages (from transformers<4.21.0,>=4.13.0) (2022.7.9)\n",
      "Requirement already satisfied: filelock in d:\\progs\\anaconda3\\lib\\site-packages (from transformers<4.21.0,>=4.13.0) (3.6.0)\n",
      "Requirement already satisfied: requests in d:\\progs\\anaconda3\\lib\\site-packages (from transformers<4.21.0,>=4.13.0) (2.28.1)\n",
      "Collecting huggingface-hub<1.0,>=0.1.0\n",
      "  Downloading huggingface_hub-0.11.0-py3-none-any.whl (182 kB)\n",
      "     -------------------------------------- 182.1/182.1 kB 1.2 MB/s eta 0:00:00\n",
      "Collecting tokenizers!=0.11.3,<0.13,>=0.11.1\n",
      "  Downloading tokenizers-0.12.1-cp39-cp39-win_amd64.whl (3.3 MB)\n",
      "     ---------------------------------------- 3.3/3.3 MB 1.0 MB/s eta 0:00:00\n",
      "Requirement already satisfied: tqdm>=4.27 in d:\\progs\\anaconda3\\lib\\site-packages (from transformers<4.21.0,>=4.13.0) (4.64.1)\n",
      "Requirement already satisfied: pyyaml>=5.1 in d:\\progs\\anaconda3\\lib\\site-packages (from transformers<4.21.0,>=4.13.0) (6.0)\n",
      "Requirement already satisfied: numpy>=1.17 in d:\\progs\\anaconda3\\lib\\site-packages (from transformers<4.21.0,>=4.13.0) (1.21.5)\n",
      "Requirement already satisfied: typing-extensions>=3.7.4.3 in d:\\progs\\anaconda3\\lib\\site-packages (from huggingface-hub<1.0,>=0.1.0->transformers<4.21.0,>=4.13.0) (4.3.0)\n",
      "Requirement already satisfied: pyparsing!=3.0.5,>=2.0.2 in d:\\progs\\anaconda3\\lib\\site-packages (from packaging>=20.0->transformers<4.21.0,>=4.13.0) (3.0.9)\n",
      "Requirement already satisfied: colorama in d:\\progs\\anaconda3\\lib\\site-packages (from tqdm>=4.27->transformers<4.21.0,>=4.13.0) (0.4.5)\n",
      "Requirement already satisfied: idna<4,>=2.5 in d:\\progs\\anaconda3\\lib\\site-packages (from requests->transformers<4.21.0,>=4.13.0) (3.3)\n",
      "Requirement already satisfied: charset-normalizer<3,>=2 in d:\\progs\\anaconda3\\lib\\site-packages (from requests->transformers<4.21.0,>=4.13.0) (2.0.4)\n",
      "Requirement already satisfied: urllib3<1.27,>=1.21.1 in d:\\progs\\anaconda3\\lib\\site-packages (from requests->transformers<4.21.0,>=4.13.0) (1.26.11)\n",
      "Requirement already satisfied: certifi>=2017.4.17 in d:\\progs\\anaconda3\\lib\\site-packages (from requests->transformers<4.21.0,>=4.13.0) (2022.9.14)\n",
      "Installing collected packages: tokenizers, huggingface-hub, transformers\n",
      "Successfully installed huggingface-hub-0.11.0 tokenizers-0.12.1 transformers-4.20.1\n",
      "Collecting pytorch-crf==0.7.*\n",
      "  Downloading pytorch_crf-0.7.2-py3-none-any.whl (9.5 kB)\n",
      "Installing collected packages: pytorch-crf\n",
      "Successfully installed pytorch-crf-0.7.2\n"
     ]
    },
    {
     "name": "stderr",
     "output_type": "stream",
     "text": [
      "2022-11-17 20:14:43.728 WARNING in 'deeppavlov.core.common.file'['file'] at line 39: \u001b[31;20m\n",
      "\n",
      "################################################################################\n",
      "# The model 'ner_ontonotes_bert_torch' has been removed from the DeepPavlov configs.\n",
      "# The model 'ner_ontonotes_bert' is used instead.\n",
      "# To disable this message please switch to 'ner_ontonotes_bert'.\n",
      "# Automatic name resolving will be disabled in the deeppavlov 1.2.0,\n",
      "# and if you try to use 'ner_ontonotes_bert_torch' you will get an ERROR.\n",
      "################################################################################\u001b[0m\n",
      "\n"
     ]
    }
   ],
   "source": [
    "!python -m deeppavlov install ner_ontonotes_bert_torch"
   ]
  },
  {
   "cell_type": "code",
   "execution_count": 5,
   "id": "2f05cb75",
   "metadata": {},
   "outputs": [
    {
     "ename": "SyntaxError",
     "evalue": "invalid syntax (1177382573.py, line 1)",
     "output_type": "error",
     "traceback": [
      "\u001b[1;36m  File \u001b[1;32m\"C:\\Users\\mrant\\AppData\\Local\\Temp\\ipykernel_12764\\1177382573.py\"\u001b[1;36m, line \u001b[1;32m1\u001b[0m\n\u001b[1;33m    python deeppavlov install ner_ontonotes_bert_torch\u001b[0m\n\u001b[1;37m           ^\u001b[0m\n\u001b[1;31mSyntaxError\u001b[0m\u001b[1;31m:\u001b[0m invalid syntax\n"
     ]
    }
   ],
   "source": [
    "python deeppavlov install ner_ontonotes_bert_torch"
   ]
  },
  {
   "cell_type": "code",
   "execution_count": null,
   "id": "cbd3a7ea",
   "metadata": {},
   "outputs": [],
   "source": [
    "from deeppavlov import ner_ontonotes_bert_torch"
   ]
  },
  {
   "cell_type": "code",
   "execution_count": null,
   "id": "83cb2469",
   "metadata": {},
   "outputs": [],
   "source": [
    "from deeppavlov import configs"
   ]
  },
  {
   "cell_type": "code",
   "execution_count": 6,
   "id": "5bcf63c5",
   "metadata": {},
   "outputs": [
    {
     "ename": "SyntaxError",
     "evalue": "invalid syntax (300090670.py, line 1)",
     "output_type": "error",
     "traceback": [
      "\u001b[1;36m  File \u001b[1;32m\"C:\\Users\\mrant\\AppData\\Local\\Temp\\ipykernel_12764\\300090670.py\"\u001b[1;36m, line \u001b[1;32m1\u001b[0m\n\u001b[1;33m    from deeppavlov import ner_rus_bert.json\u001b[0m\n\u001b[1;37m                                       ^\u001b[0m\n\u001b[1;31mSyntaxError\u001b[0m\u001b[1;31m:\u001b[0m invalid syntax\n"
     ]
    }
   ],
   "source": [
    "from deeppavlov import ner_rus_bert.json"
   ]
  },
  {
   "cell_type": "code",
   "execution_count": 7,
   "id": "020b95bd",
   "metadata": {},
   "outputs": [
    {
     "ename": "ImportError",
     "evalue": "cannot import name 'ner_rus_bert' from 'deeppavlov' (D:\\progs\\anaconda3\\lib\\site-packages\\deeppavlov\\__init__.py)",
     "output_type": "error",
     "traceback": [
      "\u001b[1;31m---------------------------------------------------------------------------\u001b[0m",
      "\u001b[1;31mImportError\u001b[0m                               Traceback (most recent call last)",
      "\u001b[1;32m~\\AppData\\Local\\Temp\\ipykernel_12764\\2533797654.py\u001b[0m in \u001b[0;36m<module>\u001b[1;34m\u001b[0m\n\u001b[1;32m----> 1\u001b[1;33m \u001b[1;32mfrom\u001b[0m \u001b[0mdeeppavlov\u001b[0m \u001b[1;32mimport\u001b[0m \u001b[0mner_rus_bert\u001b[0m\u001b[1;33m\u001b[0m\u001b[1;33m\u001b[0m\u001b[0m\n\u001b[0m",
      "\u001b[1;31mImportError\u001b[0m: cannot import name 'ner_rus_bert' from 'deeppavlov' (D:\\progs\\anaconda3\\lib\\site-packages\\deeppavlov\\__init__.py)"
     ]
    }
   ],
   "source": [
    "from deeppavlov import ner_rus_bert"
   ]
  },
  {
   "cell_type": "code",
   "execution_count": 8,
   "id": "5ad2a44f",
   "metadata": {},
   "outputs": [
    {
     "name": "stdout",
     "output_type": "stream",
     "text": [
      "Requirement already satisfied: torch<1.13.0,>=1.6.0 in d:\\progs\\anaconda3\\lib\\site-packages (1.12.1)\n",
      "Requirement already satisfied: typing-extensions in d:\\progs\\anaconda3\\lib\\site-packages (from torch<1.13.0,>=1.6.0) (4.3.0)\n",
      "Requirement already satisfied: pytorch-crf==0.7.* in d:\\progs\\anaconda3\\lib\\site-packages (0.7.2)\n",
      "Requirement already satisfied: transformers<4.21.0,>=4.13.0 in d:\\progs\\anaconda3\\lib\\site-packages (4.20.1)\n",
      "Requirement already satisfied: tqdm>=4.27 in d:\\progs\\anaconda3\\lib\\site-packages (from transformers<4.21.0,>=4.13.0) (4.64.1)\n",
      "Requirement already satisfied: huggingface-hub<1.0,>=0.1.0 in d:\\progs\\anaconda3\\lib\\site-packages (from transformers<4.21.0,>=4.13.0) (0.11.0)\n",
      "Requirement already satisfied: filelock in d:\\progs\\anaconda3\\lib\\site-packages (from transformers<4.21.0,>=4.13.0) (3.6.0)\n",
      "Requirement already satisfied: packaging>=20.0 in d:\\progs\\anaconda3\\lib\\site-packages (from transformers<4.21.0,>=4.13.0) (21.3)\n",
      "Requirement already satisfied: requests in d:\\progs\\anaconda3\\lib\\site-packages (from transformers<4.21.0,>=4.13.0) (2.28.1)\n",
      "Requirement already satisfied: pyyaml>=5.1 in d:\\progs\\anaconda3\\lib\\site-packages (from transformers<4.21.0,>=4.13.0) (6.0)\n",
      "Requirement already satisfied: numpy>=1.17 in d:\\progs\\anaconda3\\lib\\site-packages (from transformers<4.21.0,>=4.13.0) (1.21.5)\n",
      "Requirement already satisfied: regex!=2019.12.17 in d:\\progs\\anaconda3\\lib\\site-packages (from transformers<4.21.0,>=4.13.0) (2022.7.9)\n",
      "Requirement already satisfied: tokenizers!=0.11.3,<0.13,>=0.11.1 in d:\\progs\\anaconda3\\lib\\site-packages (from transformers<4.21.0,>=4.13.0) (0.12.1)\n",
      "Requirement already satisfied: typing-extensions>=3.7.4.3 in d:\\progs\\anaconda3\\lib\\site-packages (from huggingface-hub<1.0,>=0.1.0->transformers<4.21.0,>=4.13.0) (4.3.0)\n",
      "Requirement already satisfied: pyparsing!=3.0.5,>=2.0.2 in d:\\progs\\anaconda3\\lib\\site-packages (from packaging>=20.0->transformers<4.21.0,>=4.13.0) (3.0.9)\n",
      "Requirement already satisfied: colorama in d:\\progs\\anaconda3\\lib\\site-packages (from tqdm>=4.27->transformers<4.21.0,>=4.13.0) (0.4.5)\n",
      "Requirement already satisfied: urllib3<1.27,>=1.21.1 in d:\\progs\\anaconda3\\lib\\site-packages (from requests->transformers<4.21.0,>=4.13.0) (1.26.11)\n",
      "Requirement already satisfied: certifi>=2017.4.17 in d:\\progs\\anaconda3\\lib\\site-packages (from requests->transformers<4.21.0,>=4.13.0) (2022.9.14)\n",
      "Requirement already satisfied: charset-normalizer<3,>=2 in d:\\progs\\anaconda3\\lib\\site-packages (from requests->transformers<4.21.0,>=4.13.0) (2.0.4)\n",
      "Requirement already satisfied: idna<4,>=2.5 in d:\\progs\\anaconda3\\lib\\site-packages (from requests->transformers<4.21.0,>=4.13.0) (3.3)\n"
     ]
    }
   ],
   "source": [
    "!python -m deeppavlov install ner_rus_bert"
   ]
  },
  {
   "cell_type": "markdown",
   "id": "e8339d3e",
   "metadata": {},
   "source": [
    "from deeppavlov import ner_rus_bert_probas\n",
    "\n",
    "model = ner_rus_bert_probas(\"D:\\progs\\anaconda3\\Lib\\site-packages\\deeppavlov\\configs\\ner\\ner_rus_bert_probas.json\", download=True)\n",
    "\n",
    "# get predictions for 'input_text1', 'input_text2'\n",
    "model(['input_text1', 'input_text2'])"
   ]
  },
  {
   "cell_type": "code",
   "execution_count": 14,
   "id": "5b87f78b",
   "metadata": {},
   "outputs": [
    {
     "ename": "OSError",
     "evalue": "[Errno 22] Invalid argument: 'D:\\\\progs\\x07naconda3\\\\Lib\\\\site-packages\\\\deeppavlov\\\\configs\\ner\\ner_rus_bert_probas.json'",
     "output_type": "error",
     "traceback": [
      "\u001b[1;31m---------------------------------------------------------------------------\u001b[0m",
      "\u001b[1;31mOSError\u001b[0m                                   Traceback (most recent call last)",
      "\u001b[1;32m~\\AppData\\Local\\Temp\\ipykernel_12764\\2247875985.py\u001b[0m in \u001b[0;36m<module>\u001b[1;34m\u001b[0m\n\u001b[0;32m      1\u001b[0m \u001b[1;32mfrom\u001b[0m \u001b[0mdeeppavlov\u001b[0m \u001b[1;32mimport\u001b[0m \u001b[0mbuild_model\u001b[0m\u001b[1;33m\u001b[0m\u001b[1;33m\u001b[0m\u001b[0m\n\u001b[0;32m      2\u001b[0m \u001b[1;33m\u001b[0m\u001b[0m\n\u001b[1;32m----> 3\u001b[1;33m \u001b[0mmodel\u001b[0m \u001b[1;33m=\u001b[0m \u001b[0mbuild_model\u001b[0m\u001b[1;33m(\u001b[0m\u001b[1;34m\"D:\\progs\\anaconda3\\Lib\\site-packages\\deeppavlov\\configs\\ner\\ner_rus_bert_probas.json\"\u001b[0m\u001b[1;33m,\u001b[0m \u001b[0mdownload\u001b[0m\u001b[1;33m=\u001b[0m\u001b[1;32mTrue\u001b[0m\u001b[1;33m)\u001b[0m\u001b[1;33m\u001b[0m\u001b[1;33m\u001b[0m\u001b[0m\n\u001b[0m\u001b[0;32m      4\u001b[0m \u001b[1;33m\u001b[0m\u001b[0m\n\u001b[0;32m      5\u001b[0m \u001b[1;31m# get predictions for 'input_text1', 'input_text2'\u001b[0m\u001b[1;33m\u001b[0m\u001b[1;33m\u001b[0m\u001b[0m\n",
      "\u001b[1;32mD:\\progs\\anaconda3\\lib\\site-packages\\deeppavlov\\core\\commands\\infer.py\u001b[0m in \u001b[0;36mbuild_model\u001b[1;34m(config, mode, load_trained, download)\u001b[0m\n\u001b[0;32m     32\u001b[0m                 load_trained: bool = False, download: bool = False) -> Chainer:\n\u001b[0;32m     33\u001b[0m     \u001b[1;34m\"\"\"Build and return the model described in corresponding configuration file.\"\"\"\u001b[0m\u001b[1;33m\u001b[0m\u001b[1;33m\u001b[0m\u001b[0m\n\u001b[1;32m---> 34\u001b[1;33m     \u001b[0mconfig\u001b[0m \u001b[1;33m=\u001b[0m \u001b[0mparse_config\u001b[0m\u001b[1;33m(\u001b[0m\u001b[0mconfig\u001b[0m\u001b[1;33m)\u001b[0m\u001b[1;33m\u001b[0m\u001b[1;33m\u001b[0m\u001b[0m\n\u001b[0m\u001b[0;32m     35\u001b[0m \u001b[1;33m\u001b[0m\u001b[0m\n\u001b[0;32m     36\u001b[0m     \u001b[1;32mif\u001b[0m \u001b[0mdownload\u001b[0m\u001b[1;33m:\u001b[0m\u001b[1;33m\u001b[0m\u001b[1;33m\u001b[0m\u001b[0m\n",
      "\u001b[1;32mD:\\progs\\anaconda3\\lib\\site-packages\\deeppavlov\\core\\commands\\utils.py\u001b[0m in \u001b[0;36mparse_config\u001b[1;34m(config, overwrite)\u001b[0m\n\u001b[0;32m    119\u001b[0m     \"\"\"\n\u001b[0;32m    120\u001b[0m     \u001b[1;32mif\u001b[0m \u001b[0misinstance\u001b[0m\u001b[1;33m(\u001b[0m\u001b[0mconfig\u001b[0m\u001b[1;33m,\u001b[0m \u001b[1;33m(\u001b[0m\u001b[0mstr\u001b[0m\u001b[1;33m,\u001b[0m \u001b[0mPath\u001b[0m\u001b[1;33m)\u001b[0m\u001b[1;33m)\u001b[0m\u001b[1;33m:\u001b[0m\u001b[1;33m\u001b[0m\u001b[1;33m\u001b[0m\u001b[0m\n\u001b[1;32m--> 121\u001b[1;33m         \u001b[0mconfig\u001b[0m \u001b[1;33m=\u001b[0m \u001b[0mread_json\u001b[0m\u001b[1;33m(\u001b[0m\u001b[0mfind_config\u001b[0m\u001b[1;33m(\u001b[0m\u001b[0mconfig\u001b[0m\u001b[1;33m)\u001b[0m\u001b[1;33m)\u001b[0m\u001b[1;33m\u001b[0m\u001b[1;33m\u001b[0m\u001b[0m\n\u001b[0m\u001b[0;32m    122\u001b[0m \u001b[1;33m\u001b[0m\u001b[0m\n\u001b[0;32m    123\u001b[0m     \u001b[1;32mif\u001b[0m \u001b[0moverwrite\u001b[0m \u001b[1;32mis\u001b[0m \u001b[1;32mnot\u001b[0m \u001b[1;32mNone\u001b[0m\u001b[1;33m:\u001b[0m\u001b[1;33m\u001b[0m\u001b[1;33m\u001b[0m\u001b[0m\n",
      "\u001b[1;32mD:\\progs\\anaconda3\\lib\\site-packages\\deeppavlov\\core\\common\\file.py\u001b[0m in \u001b[0;36mread_json\u001b[1;34m(fpath)\u001b[0m\n\u001b[0;32m     51\u001b[0m \u001b[1;33m\u001b[0m\u001b[0m\n\u001b[0;32m     52\u001b[0m \u001b[1;32mdef\u001b[0m \u001b[0mread_json\u001b[0m\u001b[1;33m(\u001b[0m\u001b[0mfpath\u001b[0m\u001b[1;33m:\u001b[0m \u001b[0mUnion\u001b[0m\u001b[1;33m[\u001b[0m\u001b[0mstr\u001b[0m\u001b[1;33m,\u001b[0m \u001b[0mPath\u001b[0m\u001b[1;33m]\u001b[0m\u001b[1;33m)\u001b[0m \u001b[1;33m->\u001b[0m \u001b[0mdict\u001b[0m\u001b[1;33m:\u001b[0m\u001b[1;33m\u001b[0m\u001b[1;33m\u001b[0m\u001b[0m\n\u001b[1;32m---> 53\u001b[1;33m     \u001b[1;32mwith\u001b[0m \u001b[0mopen\u001b[0m\u001b[1;33m(\u001b[0m\u001b[0mfpath\u001b[0m\u001b[1;33m,\u001b[0m \u001b[0mencoding\u001b[0m\u001b[1;33m=\u001b[0m\u001b[1;34m'utf8'\u001b[0m\u001b[1;33m)\u001b[0m \u001b[1;32mas\u001b[0m \u001b[0mfin\u001b[0m\u001b[1;33m:\u001b[0m\u001b[1;33m\u001b[0m\u001b[1;33m\u001b[0m\u001b[0m\n\u001b[0m\u001b[0;32m     54\u001b[0m         \u001b[1;32mreturn\u001b[0m \u001b[0mjson\u001b[0m\u001b[1;33m.\u001b[0m\u001b[0mload\u001b[0m\u001b[1;33m(\u001b[0m\u001b[0mfin\u001b[0m\u001b[1;33m,\u001b[0m \u001b[0mobject_pairs_hook\u001b[0m\u001b[1;33m=\u001b[0m\u001b[0mOrderedDict\u001b[0m\u001b[1;33m)\u001b[0m\u001b[1;33m\u001b[0m\u001b[1;33m\u001b[0m\u001b[0m\n\u001b[0;32m     55\u001b[0m \u001b[1;33m\u001b[0m\u001b[0m\n",
      "\u001b[1;31mOSError\u001b[0m: [Errno 22] Invalid argument: 'D:\\\\progs\\x07naconda3\\\\Lib\\\\site-packages\\\\deeppavlov\\\\configs\\ner\\ner_rus_bert_probas.json'"
     ]
    }
   ],
   "source": [
    "from deeppavlov import build_model\n",
    "\n",
    "model = build_model(\"D:\\progs\\anaconda3\\Lib\\site-packages\\deeppavlov\\configs\\ner\\ner_rus_bert_probas.json\", download=True)\n",
    "\n",
    "# get predictions for 'input_text1', 'input_text2'\n"
   ]
  },
  {
   "cell_type": "code",
   "execution_count": 21,
   "id": "83b78ea0",
   "metadata": {},
   "outputs": [
    {
     "ename": "OSError",
     "evalue": "[Errno 22] Invalid argument: 'D:\\ner_rus_bert.json'",
     "output_type": "error",
     "traceback": [
      "\u001b[1;31m---------------------------------------------------------------------------\u001b[0m",
      "\u001b[1;31mOSError\u001b[0m                                   Traceback (most recent call last)",
      "\u001b[1;32m~\\AppData\\Local\\Temp\\ipykernel_12764\\3281446276.py\u001b[0m in \u001b[0;36m<module>\u001b[1;34m\u001b[0m\n\u001b[0;32m      1\u001b[0m \u001b[1;32mfrom\u001b[0m \u001b[0mdeeppavlov\u001b[0m \u001b[1;32mimport\u001b[0m \u001b[0mtrain_model\u001b[0m\u001b[1;33m\u001b[0m\u001b[1;33m\u001b[0m\u001b[0m\n\u001b[0;32m      2\u001b[0m \u001b[1;33m\u001b[0m\u001b[0m\n\u001b[1;32m----> 3\u001b[1;33m \u001b[0mmodel\u001b[0m \u001b[1;33m=\u001b[0m \u001b[0mtrain_model\u001b[0m\u001b[1;33m(\u001b[0m\u001b[1;34m\"D:\\ner_rus_bert.json\"\u001b[0m\u001b[1;33m,\u001b[0m \u001b[0mdownload\u001b[0m\u001b[1;33m=\u001b[0m\u001b[1;32mTrue\u001b[0m\u001b[1;33m)\u001b[0m\u001b[1;33m\u001b[0m\u001b[1;33m\u001b[0m\u001b[0m\n\u001b[0m",
      "\u001b[1;32mD:\\progs\\anaconda3\\lib\\site-packages\\deeppavlov\\__init__.py\u001b[0m in \u001b[0;36mtrain_model\u001b[1;34m(config, download, recursive)\u001b[0m\n\u001b[0;32m     28\u001b[0m \u001b[1;31m# TODO: make better\u001b[0m\u001b[1;33m\u001b[0m\u001b[1;33m\u001b[0m\u001b[0m\n\u001b[0;32m     29\u001b[0m \u001b[1;32mdef\u001b[0m \u001b[0mtrain_model\u001b[0m\u001b[1;33m(\u001b[0m\u001b[0mconfig\u001b[0m\u001b[1;33m:\u001b[0m \u001b[1;33m[\u001b[0m\u001b[0mstr\u001b[0m\u001b[1;33m,\u001b[0m \u001b[0mPath\u001b[0m\u001b[1;33m,\u001b[0m \u001b[0mdict\u001b[0m\u001b[1;33m]\u001b[0m\u001b[1;33m,\u001b[0m \u001b[0mdownload\u001b[0m\u001b[1;33m:\u001b[0m \u001b[0mbool\u001b[0m \u001b[1;33m=\u001b[0m \u001b[1;32mFalse\u001b[0m\u001b[1;33m,\u001b[0m \u001b[0mrecursive\u001b[0m\u001b[1;33m:\u001b[0m \u001b[0mbool\u001b[0m \u001b[1;33m=\u001b[0m \u001b[1;32mFalse\u001b[0m\u001b[1;33m)\u001b[0m \u001b[1;33m->\u001b[0m \u001b[0mChainer\u001b[0m\u001b[1;33m:\u001b[0m\u001b[1;33m\u001b[0m\u001b[1;33m\u001b[0m\u001b[0m\n\u001b[1;32m---> 30\u001b[1;33m     \u001b[0mtrain_evaluate_model_from_config\u001b[0m\u001b[1;33m(\u001b[0m\u001b[0mconfig\u001b[0m\u001b[1;33m,\u001b[0m \u001b[0mdownload\u001b[0m\u001b[1;33m=\u001b[0m\u001b[0mdownload\u001b[0m\u001b[1;33m,\u001b[0m \u001b[0mrecursive\u001b[0m\u001b[1;33m=\u001b[0m\u001b[0mrecursive\u001b[0m\u001b[1;33m)\u001b[0m\u001b[1;33m\u001b[0m\u001b[1;33m\u001b[0m\u001b[0m\n\u001b[0m\u001b[0;32m     31\u001b[0m     \u001b[1;32mreturn\u001b[0m \u001b[0mbuild_model\u001b[0m\u001b[1;33m(\u001b[0m\u001b[0mconfig\u001b[0m\u001b[1;33m,\u001b[0m \u001b[0mload_trained\u001b[0m\u001b[1;33m=\u001b[0m\u001b[1;32mTrue\u001b[0m\u001b[1;33m)\u001b[0m\u001b[1;33m\u001b[0m\u001b[1;33m\u001b[0m\u001b[0m\n\u001b[0;32m     32\u001b[0m \u001b[1;33m\u001b[0m\u001b[0m\n",
      "\u001b[1;32mD:\\progs\\anaconda3\\lib\\site-packages\\deeppavlov\\core\\commands\\train.py\u001b[0m in \u001b[0;36mtrain_evaluate_model_from_config\u001b[1;34m(config, iterator, to_train, evaluation_targets, download, start_epoch_num, recursive)\u001b[0m\n\u001b[0;32m     75\u001b[0m                                      recursive: bool = False) -> Dict[str, Dict[str, float]]:\n\u001b[0;32m     76\u001b[0m     \u001b[1;34m\"\"\"Make training and evaluation of the model described in corresponding configuration file.\"\"\"\u001b[0m\u001b[1;33m\u001b[0m\u001b[1;33m\u001b[0m\u001b[0m\n\u001b[1;32m---> 77\u001b[1;33m     \u001b[0mconfig\u001b[0m \u001b[1;33m=\u001b[0m \u001b[0mparse_config\u001b[0m\u001b[1;33m(\u001b[0m\u001b[0mconfig\u001b[0m\u001b[1;33m)\u001b[0m\u001b[1;33m\u001b[0m\u001b[1;33m\u001b[0m\u001b[0m\n\u001b[0m\u001b[0;32m     78\u001b[0m \u001b[1;33m\u001b[0m\u001b[0m\n\u001b[0;32m     79\u001b[0m     \u001b[1;32mif\u001b[0m \u001b[0mdownload\u001b[0m\u001b[1;33m:\u001b[0m\u001b[1;33m\u001b[0m\u001b[1;33m\u001b[0m\u001b[0m\n",
      "\u001b[1;32mD:\\progs\\anaconda3\\lib\\site-packages\\deeppavlov\\core\\commands\\utils.py\u001b[0m in \u001b[0;36mparse_config\u001b[1;34m(config, overwrite)\u001b[0m\n\u001b[0;32m    119\u001b[0m     \"\"\"\n\u001b[0;32m    120\u001b[0m     \u001b[1;32mif\u001b[0m \u001b[0misinstance\u001b[0m\u001b[1;33m(\u001b[0m\u001b[0mconfig\u001b[0m\u001b[1;33m,\u001b[0m \u001b[1;33m(\u001b[0m\u001b[0mstr\u001b[0m\u001b[1;33m,\u001b[0m \u001b[0mPath\u001b[0m\u001b[1;33m)\u001b[0m\u001b[1;33m)\u001b[0m\u001b[1;33m:\u001b[0m\u001b[1;33m\u001b[0m\u001b[1;33m\u001b[0m\u001b[0m\n\u001b[1;32m--> 121\u001b[1;33m         \u001b[0mconfig\u001b[0m \u001b[1;33m=\u001b[0m \u001b[0mread_json\u001b[0m\u001b[1;33m(\u001b[0m\u001b[0mfind_config\u001b[0m\u001b[1;33m(\u001b[0m\u001b[0mconfig\u001b[0m\u001b[1;33m)\u001b[0m\u001b[1;33m)\u001b[0m\u001b[1;33m\u001b[0m\u001b[1;33m\u001b[0m\u001b[0m\n\u001b[0m\u001b[0;32m    122\u001b[0m \u001b[1;33m\u001b[0m\u001b[0m\n\u001b[0;32m    123\u001b[0m     \u001b[1;32mif\u001b[0m \u001b[0moverwrite\u001b[0m \u001b[1;32mis\u001b[0m \u001b[1;32mnot\u001b[0m \u001b[1;32mNone\u001b[0m\u001b[1;33m:\u001b[0m\u001b[1;33m\u001b[0m\u001b[1;33m\u001b[0m\u001b[0m\n",
      "\u001b[1;32mD:\\progs\\anaconda3\\lib\\site-packages\\deeppavlov\\core\\common\\file.py\u001b[0m in \u001b[0;36mread_json\u001b[1;34m(fpath)\u001b[0m\n\u001b[0;32m     51\u001b[0m \u001b[1;33m\u001b[0m\u001b[0m\n\u001b[0;32m     52\u001b[0m \u001b[1;32mdef\u001b[0m \u001b[0mread_json\u001b[0m\u001b[1;33m(\u001b[0m\u001b[0mfpath\u001b[0m\u001b[1;33m:\u001b[0m \u001b[0mUnion\u001b[0m\u001b[1;33m[\u001b[0m\u001b[0mstr\u001b[0m\u001b[1;33m,\u001b[0m \u001b[0mPath\u001b[0m\u001b[1;33m]\u001b[0m\u001b[1;33m)\u001b[0m \u001b[1;33m->\u001b[0m \u001b[0mdict\u001b[0m\u001b[1;33m:\u001b[0m\u001b[1;33m\u001b[0m\u001b[1;33m\u001b[0m\u001b[0m\n\u001b[1;32m---> 53\u001b[1;33m     \u001b[1;32mwith\u001b[0m \u001b[0mopen\u001b[0m\u001b[1;33m(\u001b[0m\u001b[0mfpath\u001b[0m\u001b[1;33m,\u001b[0m \u001b[0mencoding\u001b[0m\u001b[1;33m=\u001b[0m\u001b[1;34m'utf8'\u001b[0m\u001b[1;33m)\u001b[0m \u001b[1;32mas\u001b[0m \u001b[0mfin\u001b[0m\u001b[1;33m:\u001b[0m\u001b[1;33m\u001b[0m\u001b[1;33m\u001b[0m\u001b[0m\n\u001b[0m\u001b[0;32m     54\u001b[0m         \u001b[1;32mreturn\u001b[0m \u001b[0mjson\u001b[0m\u001b[1;33m.\u001b[0m\u001b[0mload\u001b[0m\u001b[1;33m(\u001b[0m\u001b[0mfin\u001b[0m\u001b[1;33m,\u001b[0m \u001b[0mobject_pairs_hook\u001b[0m\u001b[1;33m=\u001b[0m\u001b[0mOrderedDict\u001b[0m\u001b[1;33m)\u001b[0m\u001b[1;33m\u001b[0m\u001b[1;33m\u001b[0m\u001b[0m\n\u001b[0;32m     55\u001b[0m \u001b[1;33m\u001b[0m\u001b[0m\n",
      "\u001b[1;31mOSError\u001b[0m: [Errno 22] Invalid argument: 'D:\\ner_rus_bert.json'"
     ]
    }
   ],
   "source": [
    "from deeppavlov import train_model \n",
    "\n",
    "model = train_model(\"D:\\ner_rus_bert.json\", download=True)"
   ]
  },
  {
   "cell_type": "code",
   "execution_count": null,
   "id": "be5f5e0b",
   "metadata": {},
   "outputs": [],
   "source": []
  }
 ],
 "metadata": {
  "kernelspec": {
   "display_name": "Python 3 (ipykernel)",
   "language": "python",
   "name": "python3"
  },
  "language_info": {
   "codemirror_mode": {
    "name": "ipython",
    "version": 3
   },
   "file_extension": ".py",
   "mimetype": "text/x-python",
   "name": "python",
   "nbconvert_exporter": "python",
   "pygments_lexer": "ipython3",
   "version": "3.9.13"
  }
 },
 "nbformat": 4,
 "nbformat_minor": 5
}
